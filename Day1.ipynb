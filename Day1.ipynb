{
 "cells": [
  {
   "cell_type": "markdown",
   "metadata": {},
   "source": [
    "# Exercises of day 1\n",
    "\n",
    "In this document you will find the activities done for the first day of class.\n",
    "\n",
    "## 1. Tools installation\n",
    "\n",
    "The first step I took was the installation of some of the tools that will be used in the course. In the next image, you will find a screenshot of the Anaconda Navigator, where you will see Jupyter, QtConsole and Spyder.\n",
    "<img src=\"images/tools.png\"></img>\n",
    "\n",
    "Also, in the following image you will find the installation of vtk in my computer\n",
    "<img src = \"images/shellVTK.png\"></img>\n"
   ]
  },
  {
   "cell_type": "markdown",
   "metadata": {},
   "source": [
    "## 2. Exercise: define a function that returns a list of numbers that sum up to 1\n",
    "### 2.1 Solution 1: according to the instructions\n",
    "\n"
   ]
  },
  {
   "cell_type": "code",
   "execution_count": 22,
   "metadata": {},
   "outputs": [
    {
     "name": "stdout",
     "output_type": "stream",
     "text": [
      "[0.09406389127485937, 0.2103004670535085, 0.04993367553011959, 0.23241612017786145, 0.26415146759061725, 0.14913437837303392]\n",
      "1.0\n"
     ]
    },
    {
     "data": {
      "text/plain": [
       "[0.09406389127485937,\n",
       " 0.2103004670535085,\n",
       " 0.04993367553011959,\n",
       " 0.23241612017786145,\n",
       " 0.26415146759061725,\n",
       " 0.14913437837303392]"
      ]
     },
     "execution_count": 22,
     "metadata": {},
     "output_type": "execute_result"
    }
   ],
   "source": [
    "# Here I import the random module\n",
    "import random\n",
    "\n",
    "# The following function returns a list of numbers that sum up to 1\n",
    "def listNumberSumUpTo1Solution1(n):\n",
    "    randomNumbers = [random.random() for i in range(1,(n+1))]   # here I generate a list of n randm numbers\n",
    "    s = sum(randomNumbers)    # here I sum the numbers in the list\n",
    "    r = [ i/s for i in randomNumbers ]   # here I take each number in the initial list and divide it by the sum of all numbers\n",
    "    print (r)   # here I print the list\n",
    "    print(sum(r))    # here I print the sum of the list (that must be 1)\n",
    "    return r     # here I return the list of numbers that sum up to 1\n",
    "\n",
    "# Here I call the function to se the results\n",
    "listNumberSumUpTo1Solution1(6)    \n"
   ]
  },
  {
   "cell_type": "markdown",
   "metadata": {},
   "source": [
    "### 2.1 Solution 2: solution found by me\n",
    "\n",
    "For this solution, I investigated the Dirichlet distribution. This is a family of continuous multivariate probability distributions parameterized by a vector of positive reals. It is a multivariate generalization of the beta distribution. Dirichlet distributions are very often used as prior distributions in Bayesian statistics, and in fact the Dirichlet distribution is the conjugate prior of the categorical distribution and multinomial distribution [Wikipedia](https://en.wikipedia.org/wiki/Dirichlet_distribution).\n",
    "\n",
    "This solution was found in a forum called StackOverflow, you can see this forum in the next [link](https://stackoverflow.com/questions/18659858/generating-a-list-of-random-numbers-summing-to-1).\n"
   ]
  },
  {
   "cell_type": "code",
   "execution_count": 21,
   "metadata": {},
   "outputs": [
    {
     "name": "stdout",
     "output_type": "stream",
     "text": [
      "[ 0.15369155  0.0440783   0.07925348  0.11338334  0.03955084  0.02251036\n",
      "  0.06036015  0.02511807  0.08526401  0.0063199   0.00688422  0.02854203\n",
      "  0.03917096  0.05534342  0.07385144  0.00462419  0.10665789  0.00335902\n",
      "  0.04246621  0.0095706 ]\n",
      "1.0\n"
     ]
    },
    {
     "data": {
      "text/plain": [
       "array([ 0.15369155,  0.0440783 ,  0.07925348,  0.11338334,  0.03955084,\n",
       "        0.02251036,  0.06036015,  0.02511807,  0.08526401,  0.0063199 ,\n",
       "        0.00688422,  0.02854203,  0.03917096,  0.05534342,  0.07385144,\n",
       "        0.00462419,  0.10665789,  0.00335902,  0.04246621,  0.0095706 ])"
      ]
     },
     "execution_count": 21,
     "metadata": {},
     "output_type": "execute_result"
    }
   ],
   "source": [
    "# Here I import numpy as np and numpy.random module\n",
    "import numpy as np, numpy.random\n",
    "\n",
    "# The following function returns a list of numbers that sum up to 1\n",
    "def listNumberSumUpTo1Solution2(n):\n",
    "    a = np.random.dirichlet(np.ones(n),size=1)   # here I generate a list of n random numbers with Dirichlet distribution\n",
    "    print (a[0])    # here I print the list\n",
    "    print (sum(a[0]))  #  here I print the sum of the list (that must be 1)\n",
    "    return a[0]    # here I return the list of numbers that sum up to 1\n",
    "\n",
    "# Here I call the function to se the results\n",
    "listNumberSumUpTo1Solution2(20)"
   ]
  },
  {
   "cell_type": "markdown",
   "metadata": {},
   "source": [
    "## 3. Exercise: check Basics of Numerical Python Arrays (numpy)\n",
    "\n",
    "This exercise consists of checking the numpy section. What I did was to review the code shown and analyze the proposed exercises\n",
    "\n",
    "### 3.1 Create a 10x10 2d array with 1 on the border and 0 inside\n"
   ]
  },
  {
   "cell_type": "code",
   "execution_count": 32,
   "metadata": {},
   "outputs": [
    {
     "name": "stdout",
     "output_type": "stream",
     "text": [
      "[[ 1.  1.  1.  1.  1.  1.  1.  1.  1.  1.]\n",
      " [ 1.  0.  0.  0.  0.  0.  0.  0.  0.  1.]\n",
      " [ 1.  0.  0.  0.  0.  0.  0.  0.  0.  1.]\n",
      " [ 1.  0.  0.  0.  0.  0.  0.  0.  0.  1.]\n",
      " [ 1.  0.  0.  0.  0.  0.  0.  0.  0.  1.]\n",
      " [ 1.  0.  0.  0.  0.  0.  0.  0.  0.  1.]\n",
      " [ 1.  0.  0.  0.  0.  0.  0.  0.  0.  1.]\n",
      " [ 1.  0.  0.  0.  0.  0.  0.  0.  0.  1.]\n",
      " [ 1.  0.  0.  0.  0.  0.  0.  0.  0.  1.]\n",
      " [ 1.  1.  1.  1.  1.  1.  1.  1.  1.  1.]]\n"
     ]
    }
   ],
   "source": [
    "Z = np.ones((10,10)) # Here I create a 10x10 2D array with all the positions in 1.\n",
    "Z[1:-1,1:-1] = 0  # Here I put in 0 the positions inside the 2D array, leaving the border with 1.\n",
    "print(Z) # Here I print the array"
   ]
  },
  {
   "cell_type": "markdown",
   "metadata": {},
   "source": [
    "### 3.2 Create a structured array representing a position (x,y) and a color (r,g,b)"
   ]
  },
  {
   "cell_type": "code",
   "execution_count": 33,
   "metadata": {},
   "outputs": [
    {
     "name": "stdout",
     "output_type": "stream",
     "text": [
      "[(( 0.,  0.), ( 0.,  0.,  0.)) (( 0.,  0.), ( 0.,  0.,  0.))\n",
      " (( 0.,  0.), ( 0.,  0.,  0.)) (( 0.,  0.), ( 0.,  0.,  0.))\n",
      " (( 0.,  0.), ( 0.,  0.,  0.)) (( 0.,  0.), ( 0.,  0.,  0.))\n",
      " (( 0.,  0.), ( 0.,  0.,  0.)) (( 0.,  0.), ( 0.,  0.,  0.))\n",
      " (( 0.,  0.), ( 0.,  0.,  0.)) (( 0.,  0.), ( 0.,  0.,  0.))]\n"
     ]
    }
   ],
   "source": [
    "Z = np.zeros(10, [ ('position', [ ('x', float, 1),\n",
    "                                   ('y', float, 1)]),\n",
    "                    ('color',    [ ('r', float, 1),\n",
    "                                   ('g', float, 1),\n",
    "                                   ('b', float, 1)])]) # here I create a structured array. \n",
    "                                                       # It has two parts: the first representing the position (x,y) \n",
    "                                                       # containing floats. The second representing th color (r,g,b) containing\n",
    "                                                       # floats.\n",
    "print(Z)"
   ]
  },
  {
   "cell_type": "markdown",
   "metadata": {},
   "source": [
    "###  3.3 Consider a large vector Z, compute Z to the power of 3 using 2 different methods\n",
    "\n"
   ]
  },
  {
   "cell_type": "code",
   "execution_count": 34,
   "metadata": {},
   "outputs": [
    {
     "name": "stdout",
     "output_type": "stream",
     "text": [
      "1 loop, best of 3: 2.1 s per loop\n",
      "1 loop, best of 3: 530 ms per loop\n"
     ]
    }
   ],
   "source": [
    "x = np.random.rand(50000000)\n",
    "\n",
    "%timeit np.power(x,3)  # the first method is using numpy\n",
    "%timeit x*x*x          # the second method is multiplying x three times"
   ]
  },
  {
   "cell_type": "code",
   "execution_count": null,
   "metadata": {
    "collapsed": true
   },
   "outputs": [],
   "source": []
  }
 ],
 "metadata": {
  "kernelspec": {
   "display_name": "Python 3",
   "language": "python",
   "name": "python3"
  },
  "language_info": {
   "codemirror_mode": {
    "name": "ipython",
    "version": 3
   },
   "file_extension": ".py",
   "mimetype": "text/x-python",
   "name": "python",
   "nbconvert_exporter": "python",
   "pygments_lexer": "ipython3",
   "version": "3.6.1"
  }
 },
 "nbformat": 4,
 "nbformat_minor": 2
}
