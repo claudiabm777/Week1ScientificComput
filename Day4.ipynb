{
 "cells": [
  {
   "cell_type": "markdown",
   "metadata": {},
   "source": [
    "# Exercises day 4\n",
    "\n",
    "In this document I present the results of the challenges in the day 4.\n",
    "\n",
    "## 1. Challenge 1: Adding a new Filter+Mapper+Actor to visualize the grid\n",
    "\n",
    "In this challenge I find out how to visualize the mesh structure (grid). I used the RectilinearGrid.py example from the VTK wiki. The image of the result is shown below."
   ]
  },
  {
   "cell_type": "code",
   "execution_count": null,
   "metadata": {
    "collapsed": true
   },
   "outputs": [],
   "source": [
    "import vtk\n",
    "#help(vtk.vtkRectilinearGridReader())\n",
    "\n",
    "rectGridReader = vtk.vtkRectilinearGridReader()\n",
    "rectGridReader.SetFileName(\"data/jet4_0.500.vtk\")\n",
    "# do not forget to call \"Update()\" at the end of the reader\n",
    "rectGridReader.Update()\n",
    "\n",
    "#filter\n",
    "rectGridOutline = vtk.vtkRectilinearGridOutlineFilter()\n",
    "rectGridOutline.SetInputData(rectGridReader.GetOutput())\n",
    "\n",
    "#mapper\n",
    "rectGridOutlineMapper = vtk.vtkPolyDataMapper()\n",
    "rectGridOutlineMapper.SetInputConnection(rectGridOutline.GetOutputPort())\n",
    "\n",
    "#actor\n",
    "outlineActor = vtk.vtkActor()\n",
    "outlineActor.SetMapper(rectGridOutlineMapper)\n",
    "outlineActor.GetProperty().SetColor(0, 0, 0)\n",
    "\n",
    "#---------------------------------------------------------------------------------------------------------\n",
    "\n",
    "#filter\n",
    "plane = vtk.vtkRectilinearGridGeometryFilter()\n",
    "plane.SetInputData(rectGridReader.GetOutput())\n",
    "\n",
    "#mapper\n",
    "rgridMapper = vtk.vtkPolyDataMapper()\n",
    "rgridMapper.SetInputConnection(plane.GetOutputPort())\n",
    "\n",
    "#actor\n",
    "wireActor = vtk.vtkActor()\n",
    "wireActor.SetMapper(rgridMapper)\n",
    "wireActor.GetProperty().SetRepresentationToWireframe()\n",
    "wireActor.GetProperty().SetColor(0, 0, 0)\n",
    "\n",
    "\n",
    "\n",
    "\n",
    "# Find out how to visualize this as a wireframe \n",
    "# Play with the options you get for setting up actor properties (color, opacity, etc.)\n",
    "renderer = vtk.vtkRenderer()\n",
    "renWin = vtk.vtkRenderWindow()\n",
    "renWin.AddRenderer(renderer)\n",
    "iren = vtk.vtkRenderWindowInteractor()\n",
    "iren.SetRenderWindow(renWin)\n",
    " \n",
    "renderer.AddActor(outlineActor)\n",
    "renderer.AddActor(wireActor)\n",
    "renderer.SetBackground(1, 1, 1)\n",
    "renderer.ResetCamera()\n",
    "renderer.GetActiveCamera().Elevation(60.0)\n",
    "renderer.GetActiveCamera().Azimuth(30.0)\n",
    "renderer.GetActiveCamera().Zoom(1.0)\n",
    " \n",
    "renWin.SetSize(300, 300)\n",
    " \n",
    "# interact with data\n",
    "renWin.Render()\n",
    "iren.Start()\n",
    "\n",
    "\n",
    "\n",
    "\n"
   ]
  },
  {
   "cell_type": "markdown",
   "metadata": {},
   "source": [
    "<img src = \"images/day4ch1.png\"></img>"
   ]
  },
  {
   "cell_type": "markdown",
   "metadata": {},
   "source": [
    "## 2. Challenge 2: Using the vtkCalulator to compute the vector magnitude\n",
    "As you should have noticed our data set has only one point data array named vectors. We need now to use this array to calculate the magnitude of the vectors at each point of the grid. We will do this by using the vtk.vtkArrayCalculator().\n"
   ]
  },
  {
   "cell_type": "code",
   "execution_count": null,
   "metadata": {
    "collapsed": true
   },
   "outputs": [],
   "source": [
    "import vtk\n",
    "%qtconsole\n",
    "magnitudeCalcFilter = vtk.vtkArrayCalculator()\n",
    "magnitudeCalcFilter.SetInputConnection(rectGridReader.GetOutputPort())\n",
    "magnitudeCalcFilter.AddVectorArrayName('vectors')\n",
    "# Set up here the array that is going to be used for the computation ('vectors')\n",
    "magnitudeCalcFilter.SetResultArrayName('magnitude')\n",
    "#se agrega una lista\n",
    "magnitudeCalcFilter.SetFunction(\"mag(vectors)\")\n",
    "# Set up here the function that calculates the magnitude of a vector\n",
    "magnitudeCalcFilter.Update()\n",
    "#magnitude\n",
    "#Inspect the output of the calculator using the IPython console to verify the result"
   ]
  },
  {
   "cell_type": "markdown",
   "metadata": {},
   "source": [
    "In the following image, you can find the result of \"magnitudeCalcFilter.GetOutput()\", where you can find the value of the magnitude.\n",
    "\n",
    "<img src = \"images/day4ch21.png\"></img>\n",
    "<img src = \"images/day4ch22.png\"></img>"
   ]
  },
  {
   "cell_type": "markdown",
   "metadata": {},
   "source": [
    "## 3. Challenge 3: Visualize the data set as colored points based on the \"magnitude\" value\n",
    "\n",
    "#### 1) What happens when you change the SetOnRadio parameter? Try out changing between different RandomModeType options. \n",
    "when I changed the setOnRatio parameter to a small number (for axample 5), the density of the points is greater (there are more points).\n",
    "\n",
    "On the other hand, when I changed the subset.RandomModeOn() to subset.RandomModeOff(), the points were no longer randomly placed. The results are shown below.\n",
    "\n",
    "#### 2) What does the SetScalarModeToUsePointData() function does?\n",
    "\n",
    "Control how the filter works with scalar point data and cell attribute data.\n",
    "\n",
    "By default (ScalarModeToDefault), the filter will use point data, and if no point data is available, then cell data is used. Alternatively you can explicitly set the filter to use point data (ScalarModeToUsePointData) or cell data (ScalarModeToUseCellData). You can also choose to get the scalars from an array in point field data (ScalarModeToUsePointFieldData) or cell field data (ScalarModeToUseCellFieldData). If scalars are coming from a field data array, you must call SelectColorArray before you call GetColors. <a href = \"http://www.vtk.org/doc/nightly/html/classvtkMapper.html#af330900726eb1a5e18e5f7f557306e52\">Taken from</a>\n",
    "\n",
    "This means that it is not necesary in this case call this method because it is set by default."
   ]
  },
  {
   "cell_type": "code",
   "execution_count": null,
   "metadata": {},
   "outputs": [],
   "source": [
    "import vtk\n",
    "#Extract the data from the result of the vtkCalculator\n",
    "points = vtk.vtkPoints()\n",
    "grid = magnitudeCalcFilter.GetOutput()\n",
    "grid.GetPoints(points)\n",
    "scalars = grid.GetPointData().GetArray('magnitude')\n",
    "\n",
    "#Create an unstructured grid that will contain the points and scalars data\n",
    "ugrid = vtk.vtkUnstructuredGrid()\n",
    "ugrid.SetPoints(points)\n",
    "ugrid.GetPointData().SetScalars(scalars)\n",
    "\n",
    "#Populate the cells in the unstructured grid using the output of the vtkCalculator\n",
    "for i in range (0, grid.GetNumberOfCells()):\n",
    "    cell = grid.GetCell(i)\n",
    "    ugrid.InsertNextCell(cell.GetCellType(), cell.GetPointIds())\n",
    "\n",
    "#There are too many points, let's filter the points\n",
    "subset = vtk.vtkMaskPoints()\n",
    "subset.SetOnRatio(50)\n",
    "subset.RandomModeOn()\n",
    "subset.SetInputData(ugrid)\n",
    "\n",
    "#Make a vtkPolyData with a vertex on each point.\n",
    "pointsGlyph = vtk.vtkVertexGlyphFilter()\n",
    "pointsGlyph.SetInputConnection(subset.GetOutputPort())\n",
    "#pointsGlyph.SetInputData(ugrid)\n",
    "pointsGlyph.Update()\n",
    "\n",
    "pointsMapper = vtk.vtkPolyDataMapper()\n",
    "pointsMapper.SetInputConnection(pointsGlyph.GetOutputPort())\n",
    "pointsMapper.SetScalarModeToUsePointData()\n",
    "\n",
    "pointsActor = vtk.vtkActor()\n",
    "pointsActor.SetMapper(pointsMapper)\n",
    "\n",
    "renderer = vtk.vtkRenderer()\n",
    "renWin = vtk.vtkRenderWindow()\n",
    "renWin.AddRenderer(renderer)\n",
    "iren = vtk.vtkRenderWindowInteractor()\n",
    "iren.SetRenderWindow(renWin)\n",
    " \n",
    "renderer.AddActor(pointsActor)\n",
    "renderer.SetBackground(0, 0, 0)\n",
    "renderer.ResetCamera()\n",
    "renderer.GetActiveCamera().Elevation(60.0)\n",
    "renderer.GetActiveCamera().Azimuth(30.0)\n",
    "renderer.GetActiveCamera().Zoom(1.0)\n",
    " \n",
    "renWin.SetSize(300, 300)\n",
    " \n",
    "# interact with data\n",
    "renWin.Render()\n",
    "iren.Start()"
   ]
  },
  {
   "cell_type": "markdown",
   "metadata": {},
   "source": [
    "This image is for the option subset.RandomModeOn() and subset.SetOnRatio(50)\n",
    "<img src = \"images/day4ch3.png\"></img>\n",
    "\n",
    "This image is for the option subset.RandomModeOff()\n",
    "<img src = \"images/day4modeoff.png\"></img>\n",
    "\n",
    "this image is for the option subset.SetOnRatio(5)\n",
    "<img src = \"images/day4setonratio.png\"></img>"
   ]
  },
  {
   "cell_type": "markdown",
   "metadata": {},
   "source": [
    "## 4. Challenge 4: Visualize the data set as isosurfaces based on the \"magnitude\" value\n",
    "\n",
    "#### Go to the documentation of vtkContourFilter and explain what does the GenerateValues() do? \n",
    "Generate numContours equally spaced contour values between specified range.\n",
    "Contour values will include min/max range values.\n",
    "<a href = \"http://www.vtk.org/doc/nightly/html/classvtkContourFilter.html#a91d47635a7844fe17bddad57b4201e0b\"> taken from</a>\n",
    "\n",
    "#### Inspect the scalarRange of the magnitude array. What happens when you change these values in the function?\n",
    "When the first parameter is changed to a high number (for example 100), the numContours equally spaced are going to be very dense in space. When the second parameter is changed (deffining a new min/max of the range), the graphed space will be greater.\n"
   ]
  },
  {
   "cell_type": "code",
   "execution_count": null,
   "metadata": {
    "collapsed": true
   },
   "outputs": [],
   "source": [
    "scalarRange = ugrid.GetPointData().GetScalars().GetRange()\n",
    "\n",
    "isoFilter = vtk.vtkContourFilter()\n",
    "isoFilter.SetInputData(ugrid)\n",
    "isoFilter.GenerateValues(100, scalarRange)\n",
    "\n",
    "isoMapper = vtk.vtkPolyDataMapper()\n",
    "isoMapper.SetInputConnection(isoFilter.GetOutputPort())\n",
    "\n",
    "\n",
    "isoActor = vtk.vtkActor()\n",
    "isoActor.SetMapper(isoMapper)\n",
    "isoActor.GetProperty().SetOpacity(0.5)\n",
    "\n",
    "renderer = vtk.vtkRenderer()\n",
    "renWin = vtk.vtkRenderWindow()\n",
    "renWin.AddRenderer(renderer)\n",
    "iren = vtk.vtkRenderWindowInteractor()\n",
    "iren.SetRenderWindow(renWin)\n",
    " \n",
    "renderer.AddActor(isoActor)\n",
    "renderer.SetBackground(0, 0, 0)\n",
    "renderer.ResetCamera()\n",
    "renderer.GetActiveCamera().Elevation(60.0)\n",
    "renderer.GetActiveCamera().Azimuth(30.0)\n",
    "renderer.GetActiveCamera().Zoom(1.0)\n",
    " \n",
    "renWin.SetSize(300, 300)\n",
    " \n",
    "# interact with data\n",
    "renWin.Render()\n",
    "iren.Start()"
   ]
  },
  {
   "cell_type": "markdown",
   "metadata": {},
   "source": [
    "<img src = \"images/day4ch4.png\"></img>"
   ]
  },
  {
   "cell_type": "code",
   "execution_count": null,
   "metadata": {
    "collapsed": true
   },
   "outputs": [],
   "source": []
  }
 ],
 "metadata": {
  "kernelspec": {
   "display_name": "Python 3",
   "language": "python",
   "name": "python3"
  },
  "language_info": {
   "codemirror_mode": {
    "name": "ipython",
    "version": 3
   },
   "file_extension": ".py",
   "mimetype": "text/x-python",
   "name": "python",
   "nbconvert_exporter": "python",
   "pygments_lexer": "ipython3",
   "version": "3.6.1"
  }
 },
 "nbformat": 4,
 "nbformat_minor": 2
}
