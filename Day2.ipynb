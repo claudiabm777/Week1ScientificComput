{
 "cells": [
  {
   "attachments": {},
   "cell_type": "markdown",
   "metadata": {},
   "source": [
    "# Exercises of day 2\n",
    "In this day we learn to use SALOME and Paraview. The idea was to explore this tools in this exercise.\n",
    "## Salome\n",
    "The idea here is to explore the functionalities of SALOME.\n",
    "\n",
    "#### 1) The first step was download this software, and open it.\n",
    "\n",
    "<img src = \"images/day2salome.png\"></img>\n",
    "\n",
    "#### 2) Then, I created a disk with radius of 500\n",
    "\n",
    "<img src = \"images/day2disk.png\"></img>\n",
    "\n",
    "#### 3) After this, I generated a rectangle called Face_1\n",
    "\n",
    "<img src = \"images/day2rectangle.png\"></img>\n",
    "\n",
    "#### 4) Then, I created a cut, and the result is shown in the next image:\n",
    "\n",
    "<img src = \"images/day2cut.png\"></img>\n",
    "\n",
    "#### 5) What I did next was create a group with the edges of the square:\n",
    "\n",
    "<img src = \"images/day2group.png\"></img>\n",
    "\n",
    "#### 6) And then, I created a group representing the boundaries:\n",
    "\n",
    "<img src = \"images/day2group2.png\"></img>\n",
    "\n",
    "#### 7) After this, I generated a mesh and a sub-mesh:\n",
    "\n",
    "<img src = \"images/day2mesh.png\"></img>\n",
    "\n",
    "#### 8) The next images show the computation of the mesh:\n",
    "\n",
    "<img src = \"images/day2computedmesh.png\"></img>\n",
    "\n",
    "<img src = \"images/day2computedmesh2.png\"></img>\n",
    "\n"
   ]
  },
  {
   "cell_type": "markdown",
   "metadata": {},
   "source": [
    "#### 9) Then, I ran the simulation using SU2. In the next image you can see the parameters used in the file Mesh_1.cfg\n",
    "<img src = \"images/day2parameters.png\" ></img>\n",
    "\n",
    "#### In this image you can see the simulation running in the console\n",
    "<img src = \"images/day2run.png\" ></img>\n",
    "\n",
    "#### 10) And then, I opened the result in Paraview\n",
    "<img src = \"images/day2parav.png\" ></img>"
   ]
  },
  {
   "cell_type": "markdown",
   "metadata": {},
   "source": [
    "#### 11) In Paraview I calculate the next formula: (Conservative_2*iHat)+(Conservative_3*jHat) and then a Stream Tracer:\n",
    "<img src = \"images/day2parav2.png\"></img>\n",
    "\n",
    "<img src = \"images/day2parav3.png\"></img>"
   ]
  },
  {
   "cell_type": "markdown",
   "metadata": {},
   "source": [
    "In the next links you can find the source files\n",
    "\n",
    "<a href = \"data/day2/flow1.vtk\">flow1.vtk</a>\n",
    "\n",
    "<a href = \"data/day2/history1.vtk\">history1.vtk</a>\n",
    "\n",
    "<a href = \"data/day2/Mesh_1.cfg\">Mesh_1.cfg</a>\n",
    "\n",
    "<a href = \"data/day2/Mesh_1.su2\">Mesh_1.su2</a>\n",
    "\n",
    "<a href = \"data/day2/day2.hdf\">day2.hdf</a>\n"
   ]
  },
  {
   "cell_type": "code",
   "execution_count": null,
   "metadata": {
    "collapsed": true
   },
   "outputs": [],
   "source": []
  },
  {
   "cell_type": "code",
   "execution_count": null,
   "metadata": {
    "collapsed": true
   },
   "outputs": [],
   "source": []
  }
 ],
 "metadata": {
  "kernelspec": {
   "display_name": "Python 3",
   "language": "python",
   "name": "python3"
  },
  "language_info": {
   "codemirror_mode": {
    "name": "ipython",
    "version": 3
   },
   "file_extension": ".py",
   "mimetype": "text/x-python",
   "name": "python",
   "nbconvert_exporter": "python",
   "pygments_lexer": "ipython3",
   "version": "3.6.1"
  }
 },
 "nbformat": 4,
 "nbformat_minor": 2
}
